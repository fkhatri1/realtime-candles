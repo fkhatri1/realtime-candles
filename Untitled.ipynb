{
 "cells": [
  {
   "cell_type": "code",
   "execution_count": null,
   "id": "573047b1-7e47-4232-94dd-e36b9fc9aef0",
   "metadata": {},
   "outputs": [],
   "source": [
    "import websocket  #websocket-client\n",
    "import time\n",
    "import json\n",
    "\n",
    "def on_message(ws, message):\n",
    "    #print(message)\n",
    "    _data = json.loads(message)\n",
    "    print(_data)\n",
    "    try:\n",
    "        #print(len(_data['data']))\n",
    "        for trade in _data['data']:\n",
    "            print(trade['time'])\n",
    "        print(_data['data'])\n",
    "    except KeyError as e:\n",
    "        print(_data)\n",
    "    #time.sleep(5)\n",
    "\n",
    "def on_error(ws, error):\n",
    "    print(error)\n",
    "\n",
    "def on_close(ws):\n",
    "    print(\"### closed ###\")\n",
    "\n",
    "def on_open(ws):\n",
    "    ws.send(json.dumps({'op': 'subscribe', 'channel': 'trades', 'market': 'BTC-PERP'}))\n",
    "\n",
    "\n",
    "\n",
    "ws = websocket.WebSocketApp(\"wss://ftx.com/ws/\",\n",
    "                            on_message = on_message,\n",
    "                            on_error = on_error,\n",
    "                            on_close = on_close)\n",
    "ws.on_open = on_open\n",
    "\n",
    "ws.run_forever()\n"
   ]
  },
  {
   "cell_type": "code",
   "execution_count": 3,
   "id": "d3b93f4a-c230-43dc-9e67-67174de8a3c4",
   "metadata": {},
   "outputs": [
    {
     "name": "stdout",
     "output_type": "stream",
     "text": [
      "51453.1833\n"
     ]
    }
   ],
   "source": [
    "import requests\n",
    "\n",
    "_ENDPOINT = \"https://ftx.com/api\"\n",
    "market = \"BTC-PERP\"\n",
    "url= f\"{_ENDPOINT}/futures/{market}/stats\"\n",
    "\n",
    "r = requests.get(url).json()\n",
    "print(r['result']['openInterest'])"
   ]
  }
 ],
 "metadata": {
  "kernelspec": {
   "display_name": "Python 3",
   "language": "python",
   "name": "python3"
  },
  "language_info": {
   "codemirror_mode": {
    "name": "ipython",
    "version": 3
   },
   "file_extension": ".py",
   "mimetype": "text/x-python",
   "name": "python",
   "nbconvert_exporter": "python",
   "pygments_lexer": "ipython3",
   "version": "3.9.4"
  }
 },
 "nbformat": 4,
 "nbformat_minor": 5
}
